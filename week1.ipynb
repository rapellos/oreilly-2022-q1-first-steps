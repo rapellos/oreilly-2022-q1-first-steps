{
  "nbformat": 4,
  "nbformat_minor": 0,
  "metadata": {
    "colab": {
      "name": "week1.ipynb",
      "provenance": [],
      "collapsed_sections": [],
      "toc_visible": true,
      "authorship_tag": "ABX9TyMwqyFZ/KO1LM7jwsICgy0G",
      "include_colab_link": true
    },
    "kernelspec": {
      "name": "python3",
      "display_name": "Python 3"
    },
    "language_info": {
      "name": "python"
    }
  },
  "cells": [
    {
      "cell_type": "markdown",
      "metadata": {
        "id": "view-in-github",
        "colab_type": "text"
      },
      "source": [
        "<a href=\"https://colab.research.google.com/github/rapellos/oreilly-2022-q1-first-steps/blob/main/week1.ipynb\" target=\"_parent\"><img src=\"https://colab.research.google.com/assets/colab-badge.svg\" alt=\"Open In Colab\"/></a>"
      ]
    },
    {
      "cell_type": "code",
      "execution_count": 2,
      "metadata": {
        "colab": {
          "base_uri": "https://localhost:8080/"
        },
        "id": "ySJdqfTtjNSl",
        "outputId": "6a1f15f7-3be5-451b-cda9-a66ec70258c7"
      },
      "outputs": [
        {
          "output_type": "stream",
          "name": "stdout",
          "text": [
            "hello world\n"
          ]
        }
      ],
      "source": [
        "# This is the python begiiners course \n",
        "#enter code\n",
        "print('hello world')\n"
      ]
    },
    {
      "cell_type": "code",
      "source": [
        "x = 27\n",
        "y = 28\n",
        "total = x + y\n",
        "print(total)\n"
      ],
      "metadata": {
        "colab": {
          "base_uri": "https://localhost:8080/"
        },
        "id": "1gPtIrhPjbvo",
        "outputId": "9852142e-629a-4057-d8e1-300ee3321cb7"
      },
      "execution_count": 4,
      "outputs": [
        {
          "output_type": "stream",
          "name": "stdout",
          "text": [
            "55\n"
          ]
        }
      ]
    },
    {
      "cell_type": "code",
      "source": [
        "name = input(\"please enter your name:\" )\n",
        "print('hello ' + name)\n"
      ],
      "metadata": {
        "colab": {
          "base_uri": "https://localhost:8080/"
        },
        "id": "DGE7o-tRlis1",
        "outputId": "099174df-71b2-4872-b61c-1e04d05ffbb9"
      },
      "execution_count": 7,
      "outputs": [
        {
          "output_type": "stream",
          "name": "stdout",
          "text": [
            "please enter your name:Bobby\n",
            "hello Bobby\n"
          ]
        }
      ]
    },
    {
      "cell_type": "code",
      "source": [
        "10 == 7 + 3\n"
      ],
      "metadata": {
        "colab": {
          "base_uri": "https://localhost:8080/"
        },
        "id": "ZJsindctj2k5",
        "outputId": "c8ef11f1-6cb6-400d-ae68-df05832e7cb6"
      },
      "execution_count": 8,
      "outputs": [
        {
          "output_type": "execute_result",
          "data": {
            "text/plain": [
              "True"
            ]
          },
          "metadata": {},
          "execution_count": 8
        }
      ]
    },
    {
      "cell_type": "code",
      "source": [
        "'dog' > 'Dog'"
      ],
      "metadata": {
        "colab": {
          "base_uri": "https://localhost:8080/"
        },
        "id": "Yo4n7v50pgJQ",
        "outputId": "52863e5f-e6e4-4fd1-8dc0-3ec13553a154"
      },
      "execution_count": 9,
      "outputs": [
        {
          "output_type": "execute_result",
          "data": {
            "text/plain": [
              "True"
            ]
          },
          "metadata": {},
          "execution_count": 9
        }
      ]
    },
    {
      "cell_type": "code",
      "source": [
        "name  = input('Enter your name:')\n",
        "myname = 'bobby'\n",
        "if name==myname:\n",
        "  print('hello my man')\n",
        "else:\n",
        "  print('fuck off')\n",
        "print('have a good day everyone')   "
      ],
      "metadata": {
        "colab": {
          "base_uri": "https://localhost:8080/"
        },
        "id": "orTDzKO4rF5S",
        "outputId": "e605dd32-7b15-4db2-d80e-61322c0288a4"
      },
      "execution_count": 11,
      "outputs": [
        {
          "output_type": "stream",
          "name": "stdout",
          "text": [
            "Enter your name:steve\n",
            "fuck off\n",
            "have a good day everyone\n"
          ]
        }
      ]
    },
    {
      "cell_type": "code",
      "source": [
        "firstword = input('enter first word: ')\n",
        "secondword = input('enter second word: ')\n",
        "if firstword < secondword: \n",
        "  print(firstword + ' comes first')\n",
        "elif firstword == secondword: \n",
        "  print('they are the same')\n",
        "else:\n",
        "    print(secondword+ ' comes first')\n"
      ],
      "metadata": {
        "colab": {
          "base_uri": "https://localhost:8080/"
        },
        "id": "Nt1ZtykqullQ",
        "outputId": "7a4a8e6b-7cfe-4865-e8e8-990bb4d8d06f"
      },
      "execution_count": 22,
      "outputs": [
        {
          "output_type": "stream",
          "name": "stdout",
          "text": [
            "enter first word: n\n",
            "enter second word: m\n",
            "m comes first\n"
          ]
        }
      ]
    },
    {
      "cell_type": "code",
      "source": [
        "bobby\n",
        "Bobby\n"
      ],
      "metadata": {
        "id": "LRok9sP2wbsD"
      },
      "execution_count": null,
      "outputs": []
    },
    {
      "cell_type": "code",
      "source": [
        "myname = 'bobby'\n",
        "mycompany = 'outpost'\n",
        "name = input('enter your name: ')\n",
        "company  = input('where do you work: ')\n",
        "if name == myname and company == mycompany:\n",
        "  print('something nice')\n",
        "elif name==myname and company != mycompany:\n",
        "   print('nice but a conmpetitor')\n",
        "elif name!=myname and company==mycompany:\n",
        "   print('tu est collegue')\n",
        "else:\n",
        "   print('dude')"
      ],
      "metadata": {
        "colab": {
          "base_uri": "https://localhost:8080/"
        },
        "id": "LNc3_Hehy7jc",
        "outputId": "66cc5da2-8017-4b9a-c411-c6d696b4b1b6"
      },
      "execution_count": 1,
      "outputs": [
        {
          "output_type": "stream",
          "name": "stdout",
          "text": [
            "enter your name: joe\n",
            "where do you work: cerdeb\n",
            "dude\n"
          ]
        }
      ]
    },
    {
      "cell_type": "code",
      "source": [
        ""
      ],
      "metadata": {
        "id": "1fEGHy153Fxi"
      },
      "execution_count": null,
      "outputs": []
    }
  ]
}